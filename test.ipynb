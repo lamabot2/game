{
 "cells": [
  {
   "cell_type": "code",
   "execution_count": 34,
   "metadata": {},
   "outputs": [],
   "source": [
    "from tkinter import *\n",
    "import random\n",
    "\n",
    "score, max_score = 0, 20\n",
    "size_x, size_y = 1280, 720\n",
    "\n",
    "def put():\n",
    "    global button\n",
    "    button = Button(root, text='Press me', activebackground='red', command=click)\n",
    "    button.place(x=random.randint(10, size_x), y=random.randint(10, size_y))\n",
    "\n",
    "def click():\n",
    "    global score\n",
    "    button.destroy()\n",
    "    if score < max_score:\n",
    "        score += 1\n",
    "        put()\n",
    "    else:\n",
    "        Label(root, text='You win').place(relx=0.5, rely=0.5)\n",
    "\n",
    "root = Tk()\n",
    "root.title('Game')\n",
    "root.geometry(f\"{size_x}x{size_y}\")\n",
    "root.resizable(False, False)\n",
    "put()\n",
    "root.mainloop()\n"
   ]
  }
 ],
 "metadata": {
  "kernelspec": {
   "display_name": "Python 3",
   "language": "python",
   "name": "python3"
  },
  "language_info": {
   "codemirror_mode": {
    "name": "ipython",
    "version": 3
   },
   "file_extension": ".py",
   "mimetype": "text/x-python",
   "name": "python",
   "nbconvert_exporter": "python",
   "pygments_lexer": "ipython3",
   "version": "3.10.6"
  },
  "orig_nbformat": 4
 },
 "nbformat": 4,
 "nbformat_minor": 2
}
